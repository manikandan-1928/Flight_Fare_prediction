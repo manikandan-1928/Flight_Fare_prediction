{
 "cells": [
  {
   "cell_type": "code",
   "execution_count": 1,
   "metadata": {},
   "outputs": [],
   "source": [
    "import os"
   ]
  },
  {
   "cell_type": "code",
   "execution_count": 2,
   "metadata": {},
   "outputs": [
    {
     "data": {
      "text/plain": [
       "'c:\\\\Project\\\\end_to_end_project\\\\Flight_Fare_prediction\\\\research'"
      ]
     },
     "execution_count": 2,
     "metadata": {},
     "output_type": "execute_result"
    }
   ],
   "source": [
    "%pwd"
   ]
  },
  {
   "cell_type": "code",
   "execution_count": 3,
   "metadata": {},
   "outputs": [],
   "source": [
    "os.chdir('../')"
   ]
  },
  {
   "cell_type": "code",
   "execution_count": 4,
   "metadata": {},
   "outputs": [
    {
     "data": {
      "text/plain": [
       "'c:\\\\Project\\\\end_to_end_project\\\\Flight_Fare_prediction'"
      ]
     },
     "execution_count": 4,
     "metadata": {},
     "output_type": "execute_result"
    }
   ],
   "source": [
    "%pwd"
   ]
  },
  {
   "cell_type": "code",
   "execution_count": 54,
   "metadata": {},
   "outputs": [],
   "source": [
    "from dataclasses import dataclass\n",
    "from pathlib import Path\n",
    "\n",
    "\n",
    "@dataclass(frozen=True)\n",
    "class DataTuningConfig:\n",
    "    root_dir: Path\n",
    "    train_data_path: Path\n",
    "    test_data_path: Path\n",
    "    params_report: Path\n",
    "    results_report: Path\n",
    "    model_report: Path\n",
    "    all_params: dict\n"
   ]
  },
  {
   "cell_type": "code",
   "execution_count": 6,
   "metadata": {},
   "outputs": [],
   "source": [
    "from src.mlProject.constants import *\n",
    "from src.mlProject.utils.common import read_yaml, create_directories"
   ]
  },
  {
   "cell_type": "code",
   "execution_count": 55,
   "metadata": {},
   "outputs": [],
   "source": [
    "class ConfigurationManager:\n",
    "    def __init__(\n",
    "        self,\n",
    "        config_filepath = CONFIG_FILE_PATH,\n",
    "        params_filepath = PARAMS_FILE_PATH,\n",
    "        schema_filepath = SCHEMA_FILE_PATH):\n",
    "\n",
    "        self.config = read_yaml(config_filepath)\n",
    "        self.params = read_yaml(params_filepath)\n",
    "        self.schema = read_yaml(schema_filepath)\n",
    "\n",
    "        create_directories([self.config.artifacts_root])\n",
    "\n",
    "    \n",
    "    def get_model_train_config(self) -> DataTuningConfig:\n",
    "\n",
    "        config = self.config.evaluate_model\n",
    "        params = self.params\n",
    "\n",
    "        create_directories([config.root_dir])\n",
    "\n",
    "        data_train_config = DataTuningConfig(\n",
    "            root_dir=config.root_dir,\n",
    "            train_data_path=config.train_data_path,\n",
    "            test_data_path = config.test_data_path,\n",
    "            params_report = config.params_report,\n",
    "            results_report = config.results_report,\n",
    "            model_report = config.model_report,\n",
    "            all_params = params\n",
    "        )\n",
    "\n",
    "        return data_train_config"
   ]
  },
  {
   "cell_type": "code",
   "execution_count": 8,
   "metadata": {},
   "outputs": [],
   "source": [
    "import sys\n",
    "from sklearn.metrics import r2_score, mean_absolute_error, mean_squared_error\n",
    "from xgboost import XGBRegressor\n",
    "from src.mlProject import logger\n",
    "import pandas as pd\n",
    "import json\n",
    "import pickle\n",
    "from sklearn.model_selection import train_test_split\n",
    "from sklearn.metrics import r2_score, mean_absolute_error, mean_squared_error\n",
    "from sklearn.model_selection import GridSearchCV\n",
    "from sklearn.ensemble import RandomForestRegressor\n",
    "from sklearn.linear_model import Ridge"
   ]
  },
  {
   "cell_type": "code",
   "execution_count": 56,
   "metadata": {},
   "outputs": [],
   "source": [
    "class ModelTuningEvaluate:\n",
    "    def __init__(self, config: DataTuningConfig):\n",
    "        self.config = config\n",
    "\n",
    "    def grid_search_cv(self):\n",
    "        try:\n",
    "\n",
    "            train_data = pd.read_csv(self.config.train_data_path)\n",
    "\n",
    "            test_data = pd.read_csv(self.config.test_data_path)\n",
    "\n",
    "            X_train = train_data.iloc[:, :-1]\n",
    "            y_train = train_data.iloc[:, -1]\n",
    "\n",
    "            X_test = test_data.iloc[:, :-1]\n",
    "            y_test = test_data.iloc[:, -1]\n",
    "\n",
    "                \n",
    "            with open(self.config.model_report, 'r') as file:\n",
    "                best_model_name = json.load(file)\n",
    "\n",
    "            if best_model_name['best_model_name'] == 'Random Forest':\n",
    "                best_model = RandomForestRegressor()\n",
    "            elif best_model_name['best_model_name'] == 'Ridge Regression':\n",
    "                best_model = Ridge()\n",
    "            elif best_model_name['best_model_name'] == 'XGBRegressor':\n",
    "                best_model = XGBRegressor()\n",
    "\n",
    "            params = {\n",
    "                    #'learning_rate': [0.001, 0.01, 0.1],\n",
    "                    #'n_estimators': [100, 200, 300]\n",
    "                    #'max_depth': [3, 4, 5, 6],\n",
    "                    #'min_child_weight': [1, 3, 5],\n",
    "                    #'subsample': [0.8, 0.9, 1.0],\n",
    "                    #'colsample_bytree': [0.8, 0.9, 1.0],\n",
    "                    #'gamma': [0, 0.1, 0.2],\n",
    "                    #'reg_alpha': [0, 0.1, 0.5, 1.0],\n",
    "                    'reg_lambda': [0, 0.1, 0.5, 1.0],\n",
    "                }\n",
    "\n",
    "\n",
    "            gs = GridSearchCV(best_model, params, cv=5)\n",
    "            gs.fit(X_train, y_train)\n",
    "            \n",
    "            best_params = gs.best_params_\n",
    "            print(best_params)\n",
    "            # Save the best parameters to a JSON file\n",
    "\n",
    "            param_file_path = os.path.join(self.config.root_dir, \"params_report.json\")\n",
    "\n",
    "            # Check if the file already exists\n",
    "            if os.path.exists(param_file_path):\n",
    "                # Read the existing JSON data\n",
    "                with open(param_file_path, 'r') as file:\n",
    "                    existing_data = json.load(file)\n",
    "            else:\n",
    "                # If the file doesn't exist, initialize existing_data as an empty dictionary\n",
    "                existing_data = {}\n",
    "\n",
    "            # Update the existing_data with the new data\n",
    "            existing_data.update(best_params)\n",
    "\n",
    "            # Write the updated data back to the JSON file\n",
    "            with open(param_file_path, 'w') as file:\n",
    "                json.dump(existing_data, file)\n",
    "             \n",
    "            return X_train, y_train, X_test, y_test, best_params\n",
    "\n",
    "        except Exception as e:\n",
    "            raise e\n",
    "        \n",
    "\n",
    "    \n",
    "\n",
    "    "
   ]
  },
  {
   "cell_type": "code",
   "execution_count": 60,
   "metadata": {},
   "outputs": [],
   "source": [
    "class Training:\n",
    "    def __init__(self, config):\n",
    "        self.config = config\n",
    "\n",
    "    def train_model(self, X_train, y_train, X_test, y_test):\n",
    "        try:\n",
    "            model_filepath = os.path.join(self.config.root_dir, 'trained_model.pkl')\n",
    "\n",
    "            with open(os.path.join(self.config.model_report), 'r') as file:\n",
    "                best_model_name = json.load(file)\n",
    "\n",
    "            if best_model_name['best_model_name'] == 'Random Forest':\n",
    "                best_model = RandomForestRegressor()\n",
    "            elif best_model_name['best_model_name'] == 'Ridge Regression':\n",
    "                best_model = Ridge()\n",
    "            elif best_model_name['best_model_name'] == 'XGBRegressor':\n",
    "                best_model = XGBRegressor()\n",
    "\n",
    "            best_model.set_params(**self.config.all_params)\n",
    "\n",
    "            best_model.fit(X_train, y_train)\n",
    "            print('Model Trained')\n",
    "\n",
    "            # Save the trained model\n",
    "            with open(model_filepath, 'wb') as file:\n",
    "                pickle.dump(best_model, file)\n",
    "\n",
    "            # Load existing results if available\n",
    "            results_path = os.path.join(self.config.root_dir, \"results.json\")\n",
    "            if os.path.exists(results_path):\n",
    "                with open(results_path, 'r') as file:\n",
    "                    existing_results = json.load(file)\n",
    "            else:\n",
    "                existing_results = {}\n",
    "\n",
    "            # Update results with new metrics\n",
    "            n_train = X_train.shape[0]\n",
    "            n_test = X_test.shape[0]\n",
    "            k = X_train.shape[1]\n",
    "\n",
    "            y_train_pred = best_model.predict(X_train)\n",
    "            y_test_pred = best_model.predict(X_test)\n",
    "\n",
    "            train_model_r2_score = r2_score(y_train, y_train_pred)\n",
    "\n",
    "            test_model_mae = mean_absolute_error(y_test, y_test_pred)\n",
    "            test_model_mse = mean_squared_error(y_test, y_test_pred)\n",
    "            test_model_r2_score = r2_score(y_test, y_test_pred)\n",
    "\n",
    "            new_results = {\n",
    "                \"train_data_r2_score\": train_model_r2_score,\n",
    "                \"test_data_r2_score\": test_model_r2_score,\n",
    "                \"test_data_mae\": test_model_mae,\n",
    "                \"test_data_mse\": test_model_mse,\n",
    "            }\n",
    "\n",
    "            # Update existing results with new results\n",
    "            existing_results.update(new_results)\n",
    "\n",
    "            # Write updated results back to the file\n",
    "            with open(results_path, 'w') as file:\n",
    "                json.dump(existing_results, file)\n",
    "\n",
    "            print(new_results)\n",
    "\n",
    "        except Exception as e:\n",
    "            print(f\"An error occurred during training: {e}\")"
   ]
  },
  {
   "cell_type": "code",
   "execution_count": 58,
   "metadata": {},
   "outputs": [
    {
     "name": "stdout",
     "output_type": "stream",
     "text": [
      "[2024-02-02 09:28:14,043: INFO: common: yaml file: config\\config.yaml loaded successfully]\n",
      "[2024-02-02 09:28:14,048: INFO: common: yaml file: params.yaml loaded successfully]\n",
      "[2024-02-02 09:28:14,055: INFO: common: yaml file: schema.yaml loaded successfully]\n",
      "[2024-02-02 09:28:14,058: INFO: common: created directory at: artifacts]\n",
      "[2024-02-02 09:28:14,060: INFO: common: created directory at: artifacts/model]\n"
     ]
    },
    {
     "name": "stdout",
     "output_type": "stream",
     "text": [
      "{'reg_lambda': 1.0}\n",
      "{'reg_lambda': 1.0}\n"
     ]
    }
   ],
   "source": [
    "try:\n",
    "    config = ConfigurationManager()\n",
    "    data_evaluation_config = config.get_model_train_config()\n",
    "    data_validation = ModelTuningEvaluate(config=data_evaluation_config)\n",
    "    X_train, y_train, X_test, y_test, best_params = data_validation.grid_search_cv()\n",
    "    print(best_params)\n",
    "except Exception as e:\n",
    "    raise e"
   ]
  },
  {
   "cell_type": "code",
   "execution_count": 61,
   "metadata": {},
   "outputs": [
    {
     "name": "stdout",
     "output_type": "stream",
     "text": [
      "[2024-02-02 09:29:33,540: INFO: common: yaml file: config\\config.yaml loaded successfully]\n",
      "[2024-02-02 09:29:33,548: INFO: common: yaml file: params.yaml loaded successfully]\n",
      "[2024-02-02 09:29:33,557: INFO: common: yaml file: schema.yaml loaded successfully]\n",
      "[2024-02-02 09:29:33,560: INFO: common: created directory at: artifacts]\n",
      "[2024-02-02 09:29:33,563: INFO: common: created directory at: artifacts/model]\n"
     ]
    },
    {
     "name": "stdout",
     "output_type": "stream",
     "text": [
      "Model Trained\n",
      "{'train_data_r2_score': 0.890169521320519, 'test_data_r2_score': 0.8254706996903993, 'test_data_mae': 1232.20095800408, 'test_data_mse': 3638984.1474980656}\n"
     ]
    }
   ],
   "source": [
    "try:\n",
    "    config = ConfigurationManager()\n",
    "    data_evaluation_config = config.get_model_train_config()\n",
    "\n",
    "    # Create an instance of the Training class\n",
    "    training_instance = Training(data_evaluation_config)\n",
    "\n",
    "    # Call the train_model method on the instance\n",
    "    training_instance.train_model(X_train, y_train, X_test, y_test)\n",
    "\n",
    "except Exception as e:\n",
    "    raise e\n"
   ]
  },
  {
   "cell_type": "code",
   "execution_count": null,
   "metadata": {},
   "outputs": [],
   "source": []
  },
  {
   "cell_type": "code",
   "execution_count": null,
   "metadata": {},
   "outputs": [],
   "source": []
  }
 ],
 "metadata": {
  "kernelspec": {
   "display_name": "fprice",
   "language": "python",
   "name": "python3"
  },
  "language_info": {
   "codemirror_mode": {
    "name": "ipython",
    "version": 3
   },
   "file_extension": ".py",
   "mimetype": "text/x-python",
   "name": "python",
   "nbconvert_exporter": "python",
   "pygments_lexer": "ipython3",
   "version": "3.8.18"
  }
 },
 "nbformat": 4,
 "nbformat_minor": 2
}
