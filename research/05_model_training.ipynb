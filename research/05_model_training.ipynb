{
 "cells": [
  {
   "cell_type": "code",
   "execution_count": 1,
   "metadata": {},
   "outputs": [],
   "source": [
    "import os"
   ]
  },
  {
   "cell_type": "code",
   "execution_count": 2,
   "metadata": {},
   "outputs": [
    {
     "data": {
      "text/plain": [
       "'c:\\\\Project\\\\end_to_end_project\\\\Flight_Fare_prediction\\\\research'"
      ]
     },
     "execution_count": 2,
     "metadata": {},
     "output_type": "execute_result"
    }
   ],
   "source": [
    "%pwd"
   ]
  },
  {
   "cell_type": "code",
   "execution_count": 3,
   "metadata": {},
   "outputs": [],
   "source": [
    "os.chdir('../')"
   ]
  },
  {
   "cell_type": "code",
   "execution_count": 4,
   "metadata": {},
   "outputs": [
    {
     "data": {
      "text/plain": [
       "'c:\\\\Project\\\\end_to_end_project\\\\Flight_Fare_prediction'"
      ]
     },
     "execution_count": 4,
     "metadata": {},
     "output_type": "execute_result"
    }
   ],
   "source": [
    "%pwd"
   ]
  },
  {
   "cell_type": "code",
   "execution_count": 5,
   "metadata": {},
   "outputs": [],
   "source": [
    "from dataclasses import dataclass\n",
    "from pathlib import Path\n",
    "\n",
    "\n",
    "@dataclass(frozen=True)\n",
    "class DataModelConfig:\n",
    "    root_dir: Path\n",
    "    data_path: Path\n",
    "    model_path: Path\n"
   ]
  },
  {
   "cell_type": "code",
   "execution_count": 6,
   "metadata": {},
   "outputs": [],
   "source": [
    "from src.mlProject.constants import *\n",
    "from src.mlProject.utils.common import read_yaml, create_directories, evaluate_models"
   ]
  },
  {
   "cell_type": "code",
   "execution_count": 7,
   "metadata": {},
   "outputs": [],
   "source": [
    "class ConfigurationManager:\n",
    "    def __init__(\n",
    "        self,\n",
    "        config_filepath = CONFIG_FILE_PATH,\n",
    "        params_filepath = PARAMS_FILE_PATH,\n",
    "        schema_filepath = SCHEMA_FILE_PATH):\n",
    "\n",
    "        self.config = read_yaml(config_filepath)\n",
    "        self.params = read_yaml(params_filepath)\n",
    "        self.schema = read_yaml(schema_filepath)\n",
    "\n",
    "        create_directories([self.config.artifacts_root])\n",
    "\n",
    "    \n",
    "    def get_data_model_config(self) -> DataModelConfig:\n",
    "\n",
    "        print('Done')\n",
    "        config = self.config.data_model\n",
    "\n",
    "        create_directories([config.root_dir])\n",
    "\n",
    "        data_model_config = DataModelConfig(\n",
    "            root_dir=config.root_dir,\n",
    "            data_path = config.data_path,\n",
    "            model_path = config.model_path,\n",
    "        )\n",
    "        return data_model_config"
   ]
  },
  {
   "cell_type": "code",
   "execution_count": 8,
   "metadata": {},
   "outputs": [],
   "source": [
    "import sys\n",
    "from sklearn.ensemble import (\n",
    "    RandomForestRegressor,\n",
    ")\n",
    "from sklearn.linear_model import LinearRegression\n",
    "from sklearn.metrics import r2_score\n",
    "from xgboost import XGBRegressor\n",
    "from src.mlProject import logger\n",
    "from sklearn.model_selection import train_test_split\n",
    "import pandas as pd\n",
    "import json\n",
    "import pickle"
   ]
  },
  {
   "cell_type": "code",
   "execution_count": 9,
   "metadata": {},
   "outputs": [],
   "source": [
    "class ModelTrainer:\n",
    "    def __init__(self, data_model_config: DataModelConfig):\n",
    "        self.model_trainer_config = data_model_config  # Use the passed DataModelConfig\n",
    "\n",
    "    def initiate_model_trainer(self):\n",
    "        try:\n",
    "            logger.info(\"Split training and test input data\")\n",
    "\n",
    "            transformed_data = pd.read_csv(self.model_trainer_config.data_path)\n",
    "\n",
    "            print('Done')\n",
    "\n",
    "            train, test = train_test_split(transformed_data, test_size=0.2, random_state=42)\n",
    "\n",
    "            X_train = train.iloc[:, :-1]\n",
    "            y_train = train.iloc[:, -1]\n",
    "\n",
    "            X_test = test.iloc[:, :-1]\n",
    "            y_test = test.iloc[:, -1]\n",
    "            \n",
    "            train_path = os.path.join(self.model_trainer_config.root_dir, \"training_data.csv\")\n",
    "\n",
    "            train.to_csv(train_path, index=False)\n",
    "\n",
    "            test_path = os.path.join(self.model_trainer_config.root_dir, \"testing_data.csv\")\n",
    "\n",
    "            test.to_csv(test_path, index=False)\n",
    "\n",
    "\n",
    "            models = {\n",
    "                \"Random Forest\": RandomForestRegressor(),\n",
    "                \"Linear Regression\": LinearRegression(),\n",
    "                \"XGBRegressor\": XGBRegressor(),\n",
    "            }\n",
    "\n",
    "            result = {}\n",
    "\n",
    "            model_report = evaluate_models(X_train, y_train, X_test, y_test, models)\n",
    "            # To get the best model score from dict\n",
    "            best_model_score = max(sorted(model_report.values()))\n",
    "\n",
    "            # To get the best model name from dict\n",
    "            best_model_name = list(model_report.keys())[\n",
    "                list(model_report.values()).index(best_model_score)\n",
    "            ]\n",
    "            print(model_report)\n",
    "\n",
    "            result[\"model_report\"] = model_report\n",
    "            result[\"best_model_score\"] = best_model_score\n",
    "            result[\"best_model_name\"] = best_model_name\n",
    "\n",
    "            if best_model_score < 0.6:\n",
    "                e = 'No best model found'\n",
    "                raise e\n",
    "            logger.info(f\"Best found model on both training and testing dataset\")\n",
    "\n",
    "            print(self.model_trainer_config.model_path)\n",
    "\n",
    "            \n",
    "            os.makedirs(self.model_trainer_config.model_path, exist_ok=True)\n",
    "\n",
    "            # Save the evaluation report as a JSON file in the same directory\n",
    "            report_file_path = os.path.join(self.model_trainer_config.model_path, \"report.json\")\n",
    "            with open(report_file_path, \"w\") as file:\n",
    "                json.dump(result, file, indent=4)\n",
    "\n",
    "            logger.info(f\"Report saved at {report_file_path}\")\n",
    "\n",
    "        except Exception as e:\n",
    "            raise e"
   ]
  },
  {
   "cell_type": "code",
   "execution_count": 10,
   "metadata": {},
   "outputs": [
    {
     "name": "stdout",
     "output_type": "stream",
     "text": [
      "[2024-02-02 16:45:52,125: INFO: common: yaml file: config\\config.yaml loaded successfully]\n",
      "[2024-02-02 16:45:52,135: INFO: common: yaml file: params.yaml loaded successfully]\n",
      "[2024-02-02 16:45:52,146: INFO: common: yaml file: schema.yaml loaded successfully]\n",
      "[2024-02-02 16:45:52,151: INFO: common: created directory at: artifacts]\n",
      "Done\n",
      "[2024-02-02 16:45:52,159: INFO: common: created directory at: artifacts/data_cleaning]\n",
      "DOne\n",
      "[2024-02-02 16:45:52,163: INFO: 1421504067: Split training and test input data]\n"
     ]
    },
    {
     "name": "stdout",
     "output_type": "stream",
     "text": [
      "Done\n",
      "RandomForestRegressor()\n",
      "LinearRegression()\n",
      "XGBRegressor(base_score=None, booster=None, callbacks=None,\n",
      "             colsample_bylevel=None, colsample_bynode=None,\n",
      "             colsample_bytree=None, device=None, early_stopping_rounds=None,\n",
      "             enable_categorical=False, eval_metric=None, feature_types=None,\n",
      "             gamma=None, grow_policy=None, importance_type=None,\n",
      "             interaction_constraints=None, learning_rate=None, max_bin=None,\n",
      "             max_cat_threshold=None, max_cat_to_onehot=None,\n",
      "             max_delta_step=None, max_depth=None, max_leaves=None,\n",
      "             min_child_weight=None, missing=nan, monotone_constraints=None,\n",
      "             multi_strategy=None, n_estimators=None, n_jobs=None,\n",
      "             num_parallel_tree=None, random_state=None, ...)\n",
      "{'Random Forest': 0.8098554736094523, 'Linear Regression': 0.5708953540843202, 'XGBRegressor': 0.8322409007304338}\n",
      "[2024-02-02 16:46:05,084: INFO: 1421504067: Best found model on both training and testing dataset]\n",
      "artifacts/model\n",
      "[2024-02-02 16:46:05,091: INFO: 1421504067: Report saved at artifacts/model\\report.json]\n"
     ]
    }
   ],
   "source": [
    "\n",
    "try:\n",
    "    config = ConfigurationManager()\n",
    "    data_model_config = config.get_data_model_config()\n",
    "    training = ModelTrainer(data_model_config)  \n",
    "    training.initiate_model_trainer()\n",
    "\n",
    "except Exception as e:\n",
    "    raise e\n"
   ]
  },
  {
   "cell_type": "code",
   "execution_count": null,
   "metadata": {},
   "outputs": [],
   "source": []
  }
 ],
 "metadata": {
  "kernelspec": {
   "display_name": "fprice",
   "language": "python",
   "name": "python3"
  },
  "language_info": {
   "codemirror_mode": {
    "name": "ipython",
    "version": 3
   },
   "file_extension": ".py",
   "mimetype": "text/x-python",
   "name": "python",
   "nbconvert_exporter": "python",
   "pygments_lexer": "ipython3",
   "version": "3.8.18"
  }
 },
 "nbformat": 4,
 "nbformat_minor": 2
}
