{
 "cells": [
  {
   "cell_type": "code",
   "execution_count": 31,
   "metadata": {},
   "outputs": [],
   "source": [
    "import os"
   ]
  },
  {
   "cell_type": "code",
   "execution_count": 32,
   "metadata": {},
   "outputs": [
    {
     "data": {
      "text/plain": [
       "'c:\\\\Project\\\\end_to_end_project\\\\Flight_Fare_prediction'"
      ]
     },
     "execution_count": 32,
     "metadata": {},
     "output_type": "execute_result"
    }
   ],
   "source": [
    "%pwd"
   ]
  },
  {
   "cell_type": "code",
   "execution_count": 3,
   "metadata": {},
   "outputs": [],
   "source": [
    "os.chdir('../')"
   ]
  },
  {
   "cell_type": "code",
   "execution_count": 30,
   "metadata": {},
   "outputs": [
    {
     "data": {
      "text/plain": [
       "'c:\\\\Project\\\\end_to_end_project\\\\Flight_Fare_prediction'"
      ]
     },
     "execution_count": 30,
     "metadata": {},
     "output_type": "execute_result"
    }
   ],
   "source": [
    "%pwd"
   ]
  },
  {
   "cell_type": "code",
   "execution_count": 33,
   "metadata": {},
   "outputs": [],
   "source": [
    "from dataclasses import dataclass\n",
    "from pathlib import Path\n",
    "\n",
    "\n",
    "@dataclass(frozen=True)\n",
    "class DataCleaningConfig:\n",
    "    root_dir: Path\n",
    "    data_path: Path\n",
    "    validated_path: Path"
   ]
  },
  {
   "cell_type": "code",
   "execution_count": 34,
   "metadata": {},
   "outputs": [],
   "source": [
    "from src.mlProject.constants import *\n",
    "from src.mlProject.utils.common import read_yaml, create_directories"
   ]
  },
  {
   "cell_type": "code",
   "execution_count": 35,
   "metadata": {},
   "outputs": [],
   "source": [
    "class ConfigurationManager:\n",
    "    def __init__(\n",
    "        self,\n",
    "        config_filepath = CONFIG_FILE_PATH,\n",
    "        params_filepath = PARAMS_FILE_PATH,\n",
    "        schema_filepath = SCHEMA_FILE_PATH):\n",
    "\n",
    "        self.config = read_yaml(config_filepath)\n",
    "        self.params = read_yaml(params_filepath)\n",
    "        self.schema = read_yaml(schema_filepath)\n",
    "\n",
    "        create_directories([self.config.artifacts_root])\n",
    "\n",
    "\n",
    "    \n",
    "    def get_data_cleaning_config(self) -> DataCleaningConfig:\n",
    "        config = self.config.data_cleaning\n",
    "\n",
    "        create_directories([config.root_dir])\n",
    "\n",
    "        data_cleaning_config = DataCleaningConfig(\n",
    "            root_dir=config.root_dir,\n",
    "            data_path=config.data_path,\n",
    "            validated_path=config.validated_path\n",
    "        )\n",
    "\n",
    "        return data_cleaning_config"
   ]
  },
  {
   "cell_type": "code",
   "execution_count": 36,
   "metadata": {},
   "outputs": [],
   "source": [
    "import os\n",
    "from src.mlProject import logger\n",
    "import pandas as pd\n",
    "import numpy as np"
   ]
  },
  {
   "cell_type": "code",
   "execution_count": 53,
   "metadata": {},
   "outputs": [],
   "source": [
    "class DataCleaning:\n",
    "    def __init__(self, config: DataCleaningConfig):\n",
    "        self.config = config\n",
    "\n",
    "    def data_cleaning(self):\n",
    "        data = self.load_data()\n",
    "\n",
    "        if data is not None:\n",
    "            cleaned_data = self.perform_data_cleaning(data)\n",
    "            self.save_cleaned_data(cleaned_data)\n",
    "        else:\n",
    "            logger.error(\"Validation failed. Check the input data and schema\")\n",
    "\n",
    "    def load_data(self):\n",
    "        data_path = self.config.data_path\n",
    "        try:\n",
    "            with open(data_path, 'r') as file:\n",
    "                data = pd.read_csv(file)\n",
    "            return data\n",
    "        except Exception as e:\n",
    "            logger.error(f\"Error loading data: {e}\")\n",
    "            return None\n",
    "\n",
    "    def perform_data_cleaning(self, df):\n",
    "        logger.info(\"Data cleaning process started\")\n",
    "\n",
    "        # Make a copy of the DataFrame to avoid modifying the original data\n",
    "        data = df.copy()\n",
    "\n",
    "        # Data cleaning operations here...\n",
    "        data.dropna(inplace=True)\n",
    "        data.drop_duplicates(inplace=True)\n",
    "        data.reset_index(drop=True, inplace=True)\n",
    "        data['Date_of_Journey'] = pd.to_datetime(data['Date_of_Journey'])\n",
    "        data['Journey_day'] = pd.DatetimeIndex(data['Date_of_Journey']).day\n",
    "        data['Journey_month'] = pd.DatetimeIndex(data['Date_of_Journey']).month\n",
    "        data['Journey_weekday'] = pd.DatetimeIndex(data['Date_of_Journey']).weekday\n",
    "        data['Journey_year'] = pd.DatetimeIndex(data['Date_of_Journey']).year\n",
    "        data['Destination'] = np.where(data['Destination'] == 'Delhi', 'New Delhi', data['Destination'])\n",
    "        data['Dep_Time_Hr'] = data['Dep_Time'].str.extract('(\\d+):(\\d+)').astype(int)[0]\n",
    "        data['Dep_Time_Min'] = data['Dep_Time'].str.extract('(\\d+):(\\d+)').astype(int)[1]\n",
    "        data['Arr_Time_Hr'] = data['Arrival_Time'].str.extract('(\\d+):(\\d+)').astype(int)[0]\n",
    "        data['Arr_Time_Min'] = data['Arrival_Time'].str.extract('(\\d+):(\\d+)').astype(int)[1]\n",
    "        data['Duration_Hour'] = data['Duration'].str.extract('(\\d+)h', expand=False).fillna(0).astype(int)\n",
    "        data['Duration_Minute'] = data['Duration'].str.extract('(\\d+)m', expand=False).fillna(0).astype(int)\n",
    "        data['Total_Stops'] = data['Total_Stops'].map({'non-stop': 0, '1 stop': 1, '2 stops': 2, '3 stops': 3, '4 stops': 4})\n",
    "        data.drop(columns=['Date_of_Journey', 'Dep_Time', 'Arrival_Time', 'Route', 'Additional_Info', 'Duration'], axis=1,\n",
    "                  inplace=True)\n",
    "\n",
    "        logger.info(\"Data cleaning process completed\")\n",
    "        return data\n",
    "\n",
    "    def save_cleaned_data(self, df):\n",
    "        try:\n",
    "            cleaned_data_path = os.path.join(self.config.root_dir, \"cleaned_data.csv\")\n",
    "            df.to_csv(cleaned_data_path, index=False)\n",
    "            logger.info(\"Cleaned data is saved in artifacts folder.\")\n",
    "        except Exception as e:\n",
    "            logger.error(f\"Error saving cleaned data: {e}\")\n"
   ]
  },
  {
   "cell_type": "code",
   "execution_count": 54,
   "metadata": {},
   "outputs": [
    {
     "name": "stdout",
     "output_type": "stream",
     "text": [
      "[2024-01-31 15:02:09,737: INFO: common: yaml file: config\\config.yaml loaded successfully]\n",
      "[2024-01-31 15:02:09,745: INFO: common: yaml file: params.yaml loaded successfully]\n",
      "[2024-01-31 15:02:09,753: INFO: common: yaml file: schema.yaml loaded successfully]\n",
      "[2024-01-31 15:02:09,753: INFO: common: created directory at: artifacts]\n",
      "[2024-01-31 15:02:09,761: INFO: common: created directory at: artifacts/data_cleaning]\n",
      "[2024-01-31 15:02:09,817: INFO: 3731321430: Data cleaning process started]\n"
     ]
    },
    {
     "name": "stderr",
     "output_type": "stream",
     "text": [
      "C:\\Users\\srima\\AppData\\Local\\Temp\\ipykernel_18580\\3731321430.py:34: UserWarning: Parsing dates in %d/%m/%Y format when dayfirst=False (the default) was specified. Pass `dayfirst=True` or specify a format to silence this warning.\n",
      "  data['Date_of_Journey'] = pd.to_datetime(data['Date_of_Journey'])\n"
     ]
    },
    {
     "name": "stdout",
     "output_type": "stream",
     "text": [
      "[2024-01-31 15:02:10,443: INFO: 3731321430: Data cleaning process completed]\n",
      "[2024-01-31 15:02:10,667: INFO: 3731321430: Cleaned data is saved in artifacts folder.]\n"
     ]
    }
   ],
   "source": [
    "try:\n",
    "    config = ConfigurationManager()\n",
    "    data_cleaning_config = config.get_data_cleaning_config()\n",
    "    data_cleaning_process = DataCleaning(config=data_cleaning_config)\n",
    "    data_cleaning_process.data_cleaning()\n",
    "\n",
    "except Exception as e:\n",
    "    raise e\n"
   ]
  },
  {
   "cell_type": "code",
   "execution_count": null,
   "metadata": {},
   "outputs": [],
   "source": []
  }
 ],
 "metadata": {
  "kernelspec": {
   "display_name": "fprice",
   "language": "python",
   "name": "python3"
  },
  "language_info": {
   "codemirror_mode": {
    "name": "ipython",
    "version": 3
   },
   "file_extension": ".py",
   "mimetype": "text/x-python",
   "name": "python",
   "nbconvert_exporter": "python",
   "pygments_lexer": "ipython3",
   "version": "3.8.18"
  }
 },
 "nbformat": 4,
 "nbformat_minor": 2
}
