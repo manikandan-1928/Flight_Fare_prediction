{
 "cells": [
  {
   "cell_type": "code",
   "execution_count": 1,
   "metadata": {},
   "outputs": [],
   "source": [
    "import os"
   ]
  },
  {
   "cell_type": "code",
   "execution_count": 2,
   "metadata": {},
   "outputs": [
    {
     "data": {
      "text/plain": [
       "'c:\\\\Project\\\\end_to_end_project\\\\Flight_Fare_prediction\\\\research'"
      ]
     },
     "execution_count": 2,
     "metadata": {},
     "output_type": "execute_result"
    }
   ],
   "source": [
    "%pwd"
   ]
  },
  {
   "cell_type": "code",
   "execution_count": 3,
   "metadata": {},
   "outputs": [],
   "source": [
    "os.chdir('../')"
   ]
  },
  {
   "cell_type": "code",
   "execution_count": 4,
   "metadata": {},
   "outputs": [
    {
     "data": {
      "text/plain": [
       "'c:\\\\Project\\\\end_to_end_project\\\\Flight_Fare_prediction'"
      ]
     },
     "execution_count": 4,
     "metadata": {},
     "output_type": "execute_result"
    }
   ],
   "source": [
    "%pwd"
   ]
  },
  {
   "cell_type": "code",
   "execution_count": 5,
   "metadata": {},
   "outputs": [],
   "source": [
    "os.environ[\"MLFLOW_TRACKING_URI\"]=\"https://dagshub.com/manikandan-1928/Flight_Fare_prediction.mlflow\"\n",
    "os.environ[\"MLFLOW_TRACKING_USERNAME\"]=\"manikandan-1928\"\n",
    "os.environ[\"MLFLOW_TRACKING_PASSWORD\"]=\"01ae2fa97ab661b59c00d1a95b9cb76a87fc1f31\""
   ]
  },
  {
   "cell_type": "code",
   "execution_count": 6,
   "metadata": {},
   "outputs": [],
   "source": [
    "from dataclasses import dataclass\n",
    "from pathlib import Path\n",
    "\n",
    "\n",
    "@dataclass(frozen=True)\n",
    "class DataTuningConfig:\n",
    "    root_dir: Path\n",
    "    train_data_path: Path\n",
    "    test_data_path: Path\n",
    "    params_report: Path\n",
    "    results_report: Path\n",
    "    model_report: Path\n",
    "    all_params: dict\n",
    "    mlflow_uri: str\n",
    "\n"
   ]
  },
  {
   "cell_type": "code",
   "execution_count": 7,
   "metadata": {},
   "outputs": [],
   "source": [
    "from src.mlProject.constants import *\n",
    "from src.mlProject.utils.common import read_yaml, create_directories"
   ]
  },
  {
   "cell_type": "code",
   "execution_count": 8,
   "metadata": {},
   "outputs": [],
   "source": [
    "class ConfigurationManager:\n",
    "    def __init__(\n",
    "        self,\n",
    "        config_filepath = CONFIG_FILE_PATH,\n",
    "        params_filepath = PARAMS_FILE_PATH,\n",
    "        schema_filepath = SCHEMA_FILE_PATH):\n",
    "\n",
    "        self.config = read_yaml(config_filepath)\n",
    "        self.params = read_yaml(params_filepath)\n",
    "        self.schema = read_yaml(schema_filepath)\n",
    "\n",
    "        create_directories([self.config.artifacts_root])\n",
    "\n",
    "    \n",
    "    def get_model_train_config(self) -> DataTuningConfig:\n",
    "\n",
    "        config = self.config.evaluate_model\n",
    "        params = self.params\n",
    "\n",
    "        create_directories([config.root_dir])\n",
    "\n",
    "        data_train_config = DataTuningConfig(\n",
    "            root_dir=config.root_dir,\n",
    "            train_data_path=config.train_data_path,\n",
    "            test_data_path = config.test_data_path,\n",
    "            params_report = config.params_report,\n",
    "            results_report = config.results_report,\n",
    "            model_report = config.model_report,\n",
    "            all_params = params,\n",
    "            mlflow_uri= 'https://dagshub.com/manikandan-1928/Flight_Fare_prediction.mlflow'\n",
    "        )\n",
    "\n",
    "        return data_train_config"
   ]
  },
  {
   "cell_type": "code",
   "execution_count": 9,
   "metadata": {},
   "outputs": [],
   "source": [
    "import sys\n",
    "from sklearn.metrics import r2_score, mean_absolute_error, mean_squared_error\n",
    "from xgboost import XGBRegressor\n",
    "from src.mlProject import logger\n",
    "import pandas as pd\n",
    "import json\n",
    "import pickle\n",
    "from sklearn.model_selection import train_test_split\n",
    "from sklearn.metrics import r2_score, mean_absolute_error, mean_squared_error\n",
    "from sklearn.model_selection import GridSearchCV\n",
    "from sklearn.ensemble import RandomForestRegressor\n",
    "from sklearn.linear_model import LinearRegression\n",
    "import mlflow\n",
    "from urllib.parse import urlparse\n"
   ]
  },
  {
   "cell_type": "code",
   "execution_count": 10,
   "metadata": {},
   "outputs": [],
   "source": [
    "class ModelTuningEvaluate:\n",
    "    def __init__(self, config: DataTuningConfig):\n",
    "        self.config = config\n",
    "\n",
    "    def grid_search_cv(self):\n",
    "        try:\n",
    "\n",
    "            logger.info(\"Splitting the data to train and test sets\")\n",
    "\n",
    "\n",
    "            train_data = pd.read_csv(self.config.train_data_path)\n",
    "\n",
    "            test_data = pd.read_csv(self.config.test_data_path)\n",
    "\n",
    "            X_train = train_data.iloc[:, :-1]\n",
    "            y_train = train_data.iloc[:, -1]\n",
    "\n",
    "            X_test = test_data.iloc[:, :-1]\n",
    "            y_test = test_data.iloc[:, -1]\n",
    "\n",
    "            best_model = XGBRegressor()        \n",
    "            logger.info(\"Setting the values for hyperparameter tuning\")\n",
    "\n",
    "            params = {\n",
    "                    #'learning_rate': [0.001, 0.01, 0.1],\n",
    "                    #'n_estimators': [100, 200, 300, 400]\n",
    "                    #'max_depth': [3, 6, 9, 12],\n",
    "                    #'min_child_weight': [1, 3, 5],\n",
    "                    #'subsample': [0.8, 0.9, 1.0],\n",
    "                    #'colsample_bytree': [0.8, 0.9, 1.0],\n",
    "                    #'gamma': [0, 0.1, 0.2],\n",
    "                    #'reg_alpha': [0, 0.1, 0.5, 1.0],\n",
    "                    'reg_lambda': [0, 0.1, 0.5, 1.0],\n",
    "                }\n",
    "\n",
    "            logger.info(\"Applying GridSearchCV method\")\n",
    "\n",
    "            gs = GridSearchCV(best_model, params, cv=5)\n",
    "            gs.fit(X_train, y_train)\n",
    "            \n",
    "            best_params = gs.best_params_\n",
    "            print(best_params)\n",
    "            # Save the best parameters to a JSON file\n",
    "\n",
    "            param_file_path = os.path.join(self.config.root_dir, \"params_report.json\")\n",
    "\n",
    "            # Check if the file already exists\n",
    "            if os.path.exists(param_file_path):\n",
    "                # Read the existing JSON data\n",
    "                with open(param_file_path, 'r') as file:\n",
    "                    existing_data = json.load(file)\n",
    "            else:\n",
    "                # If the file doesn't exist, initialize existing_data as an empty dictionary\n",
    "                existing_data = {}\n",
    "\n",
    "            # Update the existing_data with the new data\n",
    "            existing_data.update(best_params)\n",
    "\n",
    "            # Write the updated data back to the JSON file\n",
    "            with open(param_file_path, 'w') as file:\n",
    "                json.dump(existing_data, file)\n",
    "             \n",
    "            logger.info(\"Best params are saved\")\n",
    "\n",
    "        except Exception as e:\n",
    "            raise e\n",
    "        "
   ]
  },
  {
   "cell_type": "code",
   "execution_count": 16,
   "metadata": {},
   "outputs": [],
   "source": [
    "class Training:\n",
    "    def __init__(self, config):\n",
    "        self.config = config\n",
    "\n",
    "    def train_model(self):\n",
    "        try:\n",
    "\n",
    "            train_data = pd.read_csv(self.config.train_data_path)\n",
    "\n",
    "            test_data = pd.read_csv(self.config.test_data_path)\n",
    "\n",
    "            X_train = train_data.iloc[:, :-1]\n",
    "            y_train = train_data.iloc[:, -1]\n",
    "\n",
    "            X_test = test_data.iloc[:, :-1]\n",
    "            y_test = test_data.iloc[:, -1]\n",
    "\n",
    "\n",
    "            model_filepath = os.path.join(self.config.root_dir, 'trained_model.h5')\n",
    "\n",
    "            # Load the JSON file\n",
    "            with open(self.config.model_report, 'r') as file:\n",
    "                data = json.load(file)\n",
    "\n",
    "            # Extract the best_model_name\n",
    "            best_model_name = data[\"best_model_name\"]\n",
    "\n",
    "            print(best_model_name)\n",
    "            logger.info(\"Best model is chosen\")\n",
    "\n",
    "\n",
    "            if best_model_name == 'Random Forest':\n",
    "                best_model = RandomForestRegressor()\n",
    "\n",
    "            elif best_model_name == 'Linear Regression':\n",
    "                best_model = LinearRegression()\n",
    "\n",
    "            elif best_model_name == 'XGBRegressor':\n",
    "                best_model = XGBRegressor()\n",
    "\n",
    "            logger.info(\"Setting the best params to the chosen model\")\n",
    "\n",
    "            best_model.set_params(**self.config.all_params)\n",
    "            logger.info(\"Model trainig is trained with the best parameters\")\n",
    "\n",
    "\n",
    "            best_model.fit(X_train, y_train)\n",
    "            print('Model Trained')\n",
    "\n",
    "            # Save the trained model\n",
    "            with open(model_filepath, 'wb') as file:\n",
    "                pickle.dump(best_model, file)\n",
    "\n",
    "\n",
    "            with open('model.h5', 'wb') as file:\n",
    "                pickle.dump(best_model, file)\n",
    "                \n",
    "\n",
    "            logger.info(\"Training completed and model saved\")\n",
    "\n",
    "            # Load existing results if available\n",
    "            results_path = os.path.join(self.config.root_dir, \"results.json\")\n",
    "            if os.path.exists(results_path):\n",
    "                with open(results_path, 'r') as file:\n",
    "                    existing_results = json.load(file)\n",
    "            else:\n",
    "                existing_results = {}\n",
    "\n",
    "            logger.info(\"Model prediction for evaluation\")\n",
    "\n",
    "            y_train_pred = best_model.predict(X_train)\n",
    "            y_test_pred = best_model.predict(X_test)\n",
    "            logger.info(\"Metrics calculation beginning\")\n",
    "           \n",
    "\n",
    "            train_model_r2_score = r2_score(y_train, y_train_pred)\n",
    "\n",
    "            test_model_mae = mean_absolute_error(y_test, y_test_pred)\n",
    "            test_model_mse = mean_squared_error(y_test, y_test_pred)\n",
    "            test_model_r2_score = r2_score(y_test, y_test_pred)\n",
    "\n",
    "            new_results = {\n",
    "                \"train_data_r2_score\": train_model_r2_score,\n",
    "                \"test_data_r2_score\": test_model_r2_score,\n",
    "                \"test_data_mae\": test_model_mae,\n",
    "                \"test_data_mse\": test_model_mse,\n",
    "            }\n",
    "\n",
    "            # Update existing results with new results\n",
    "            existing_results.update(new_results)\n",
    "\n",
    "            # Write updated results back to the file\n",
    "            with open(results_path, 'w') as file:\n",
    "                json.dump(existing_results, file)\n",
    "\n",
    "            logger.info(\"Evaluation finished and saved results\")\n",
    "\n",
    "\n",
    "            return new_results, best_model\n",
    "        \n",
    "        except Exception as e:\n",
    "            raise e\n",
    "\n",
    "    def log_into_mlflow(self, results, best_model):\n",
    "\n",
    "        try:\n",
    "\n",
    "            mlflow.set_registry_uri(self.config.mlflow_uri)\n",
    "            tracking_url_type_store = urlparse(mlflow.get_tracking_uri()).scheme\n",
    "            \n",
    "            with mlflow.start_run():\n",
    "                mlflow.log_params(self.config.all_params)\n",
    "\n",
    "                # Log metrics\n",
    "                mlflow.log_metrics(results)\n",
    "\n",
    "                # Log the model into MLflow\n",
    "                if tracking_url_type_store != \"file\":\n",
    "                    # Register the model in the Model Registry\n",
    "                    mlflow.xgboost.log_model(best_model, \"model\", registered_model_name=\"XGBRegressor\")\n",
    "                else:\n",
    "                    mlflow.xgboost.log_model(best_model, \"model\")\n",
    "\n",
    "        except Exception as e:\n",
    "            raise e\n",
    "\n",
    "                \n",
    "    "
   ]
  },
  {
   "cell_type": "code",
   "execution_count": 18,
   "metadata": {},
   "outputs": [
    {
     "name": "stdout",
     "output_type": "stream",
     "text": [
      "[2024-02-02 18:39:22,833: INFO: common: yaml file: config\\config.yaml loaded successfully]\n",
      "[2024-02-02 18:39:22,844: INFO: common: yaml file: params.yaml loaded successfully]\n",
      "[2024-02-02 18:39:22,858: INFO: common: yaml file: schema.yaml loaded successfully]\n",
      "[2024-02-02 18:39:22,863: INFO: common: created directory at: artifacts]\n",
      "[2024-02-02 18:39:22,870: INFO: common: created directory at: artifacts/model]\n"
     ]
    },
    {
     "name": "stdout",
     "output_type": "stream",
     "text": [
      "{'reg_lambda': 1.0}\n"
     ]
    }
   ],
   "source": [
    "try:\n",
    "    config = ConfigurationManager()\n",
    "    data_evaluation_config = config.get_model_train_config()\n",
    "    data_validation = ModelTuningEvaluate(config=data_evaluation_config)\n",
    "    data_validation.grid_search_cv()\n",
    "except Exception as e:\n",
    "    raise e"
   ]
  },
  {
   "cell_type": "code",
   "execution_count": 18,
   "metadata": {},
   "outputs": [
    {
     "name": "stdout",
     "output_type": "stream",
     "text": [
      "[2024-02-03 23:48:58,115: INFO: common: yaml file: config\\config.yaml loaded successfully]\n",
      "[2024-02-03 23:48:58,123: INFO: common: yaml file: params.yaml loaded successfully]\n",
      "[2024-02-03 23:48:58,131: INFO: common: yaml file: schema.yaml loaded successfully]\n",
      "[2024-02-03 23:48:58,139: INFO: common: created directory at: artifacts]\n",
      "[2024-02-03 23:48:58,155: INFO: common: created directory at: artifacts/model]\n"
     ]
    },
    {
     "name": "stdout",
     "output_type": "stream",
     "text": [
      "XGBRegressor\n",
      "[2024-02-03 23:48:58,904: INFO: 270427470: Best model is chosen]\n",
      "[2024-02-03 23:48:58,912: INFO: 270427470: Setting the best params to the chosen model]\n",
      "[2024-02-03 23:48:58,912: INFO: 270427470: Model trainig is trained with the best parameters]\n",
      "Model Trained\n",
      "[2024-02-03 23:49:01,275: INFO: 270427470: Training completed and model saved]\n",
      "[2024-02-03 23:49:01,275: INFO: 270427470: Model prediction for evaluation]\n",
      "[2024-02-03 23:49:01,396: INFO: 270427470: Metrics calculation beginning]\n",
      "[2024-02-03 23:49:01,412: INFO: 270427470: Evaluation finished and saved results]\n"
     ]
    },
    {
     "name": "stderr",
     "output_type": "stream",
     "text": [
      "c:\\Users\\srima\\anaconda3\\envs\\fprice\\lib\\site-packages\\xgboost\\core.py:160: UserWarning: [23:49:04] WARNING: C:\\buildkite-agent\\builds\\buildkite-windows-cpu-autoscaling-group-i-0b3782d1791676daf-1\\xgboost\\xgboost-ci-windows\\src\\c_api\\c_api.cc:1240: Saving into deprecated binary model format, please consider using `json` or `ubj`. Model format will default to JSON in XGBoost 2.2 if not specified.\n",
      "  warnings.warn(smsg, UserWarning)\n",
      "Registered model 'XGBRegressor' already exists. Creating a new version of this model...\n",
      "2024/02/03 23:49:28 INFO mlflow.tracking._model_registry.client: Waiting up to 300 seconds for model version to finish creation.                     Model name: XGBRegressor, version 13\n",
      "Created version '13' of model 'XGBRegressor'.\n"
     ]
    }
   ],
   "source": [
    "try:\n",
    "    config = ConfigurationManager()\n",
    "    data_evaluation_config = config.get_model_train_config()\n",
    "\n",
    "    # Create an instance of the Training class\n",
    "    training_instance = Training(data_evaluation_config)\n",
    "\n",
    "    # Call the train_model method on the instance\n",
    "    results, model = training_instance.train_model()\n",
    "    training_instance.log_into_mlflow(results, model)\n",
    "\n",
    "except Exception as e:\n",
    "    raise e\n"
   ]
  },
  {
   "cell_type": "code",
   "execution_count": null,
   "metadata": {},
   "outputs": [],
   "source": []
  },
  {
   "cell_type": "code",
   "execution_count": null,
   "metadata": {},
   "outputs": [],
   "source": []
  }
 ],
 "metadata": {
  "kernelspec": {
   "display_name": "fprice",
   "language": "python",
   "name": "python3"
  },
  "language_info": {
   "codemirror_mode": {
    "name": "ipython",
    "version": 3
   },
   "file_extension": ".py",
   "mimetype": "text/x-python",
   "name": "python",
   "nbconvert_exporter": "python",
   "pygments_lexer": "ipython3",
   "version": "3.8.18"
  }
 },
 "nbformat": 4,
 "nbformat_minor": 2
}
